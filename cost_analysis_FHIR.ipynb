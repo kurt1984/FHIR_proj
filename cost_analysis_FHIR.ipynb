{
 "cells": [
  {
   "cell_type": "markdown",
   "metadata": {},
   "source": [
    "# Cost Analysis of Predicted Futures\n",
    "\n",
    "\n"
   ]
  },
  {
   "cell_type": "markdown",
   "metadata": {},
   "source": [
    "## Cost data comparison\n"
   ]
  },
  {
   "cell_type": "markdown",
   "metadata": {},
   "source": [
    "Importing necessary packages\n"
   ]
  },
  {
   "cell_type": "code",
   "execution_count": 58,
   "metadata": {},
   "outputs": [],
   "source": [
    "import base64\n",
    "import pandas as pd\n",
    "import duckdb\n",
    "import numpy as np\n",
    "import scipy\n",
    "import json\n",
    "from fhir.resources.riskassessment import RiskAssessment\n",
    "from fhir.resources.reference import Reference\n",
    "from fhir.resources.codeableconcept import CodeableConcept\n",
    "from IPython.display import Image, display"
   ]
  },
  {
   "cell_type": "markdown",
   "metadata": {},
   "source": [
    "Loading data\n"
   ]
  },
  {
   "cell_type": "code",
   "execution_count": 2,
   "metadata": {},
   "outputs": [],
   "source": [
    "predicted_futures = pd.read_parquet(\n",
    "    \"predicted_futures_data.parquet\"\n",
    ")\n",
    "with open(\"cost_distributions.json\") as json_file:\n",
    "    cost_origin = json.load(json_file)"
   ]
  },
  {
   "cell_type": "markdown",
   "metadata": {},
   "source": [
    "As we can see, from this patient, the values could be different for one prediction within and across days_until_event\n"
   ]
  },
  {
   "cell_type": "code",
   "execution_count": 59,
   "metadata": {},
   "outputs": [
    {
     "data": {
      "application/vnd.jupyter.widget-view+json": {
       "model_id": "fe902e9345324682b45bd3eb97009768",
       "version_major": 2,
       "version_minor": 0
      },
      "text/plain": [
       "FloatProgress(value=0.0, layout=Layout(width='auto'), style=ProgressStyle(bar_color='black'))"
      ]
     },
     "metadata": {},
     "output_type": "display_data"
    },
    {
     "data": {
      "text/html": [
       "<div>\n",
       "<style scoped>\n",
       "    .dataframe tbody tr th:only-of-type {\n",
       "        vertical-align: middle;\n",
       "    }\n",
       "\n",
       "    .dataframe tbody tr th {\n",
       "        vertical-align: top;\n",
       "    }\n",
       "\n",
       "    .dataframe thead th {\n",
       "        text-align: right;\n",
       "    }\n",
       "</style>\n",
       "<table border=\"1\" class=\"dataframe\">\n",
       "  <thead>\n",
       "    <tr style=\"text-align: right;\">\n",
       "      <th></th>\n",
       "      <th>patient_id</th>\n",
       "      <th>prediction_id</th>\n",
       "      <th>key</th>\n",
       "      <th>value</th>\n",
       "      <th>value_numeric</th>\n",
       "      <th>days_until_event</th>\n",
       "    </tr>\n",
       "  </thead>\n",
       "  <tbody>\n",
       "    <tr>\n",
       "      <th>0</th>\n",
       "      <td>624603</td>\n",
       "      <td>8</td>\n",
       "      <td>policy_paid_total_amount</td>\n",
       "      <td>NaN</td>\n",
       "      <td>143.919998</td>\n",
       "      <td>0</td>\n",
       "    </tr>\n",
       "    <tr>\n",
       "      <th>1</th>\n",
       "      <td>624603</td>\n",
       "      <td>8</td>\n",
       "      <td>policy_paid_total_amount</td>\n",
       "      <td>NaN</td>\n",
       "      <td>143.919998</td>\n",
       "      <td>0</td>\n",
       "    </tr>\n",
       "    <tr>\n",
       "      <th>2</th>\n",
       "      <td>624603</td>\n",
       "      <td>8</td>\n",
       "      <td>policy_paid_total_amount</td>\n",
       "      <td>NaN</td>\n",
       "      <td>143.919998</td>\n",
       "      <td>0</td>\n",
       "    </tr>\n",
       "    <tr>\n",
       "      <th>3</th>\n",
       "      <td>624603</td>\n",
       "      <td>8</td>\n",
       "      <td>policy_paid_total_amount</td>\n",
       "      <td>NaN</td>\n",
       "      <td>143.919998</td>\n",
       "      <td>0</td>\n",
       "    </tr>\n",
       "    <tr>\n",
       "      <th>4</th>\n",
       "      <td>624603</td>\n",
       "      <td>8</td>\n",
       "      <td>policy_paid_total_amount</td>\n",
       "      <td>NaN</td>\n",
       "      <td>154.070007</td>\n",
       "      <td>200</td>\n",
       "    </tr>\n",
       "    <tr>\n",
       "      <th>5</th>\n",
       "      <td>624603</td>\n",
       "      <td>8</td>\n",
       "      <td>policy_paid_total_amount</td>\n",
       "      <td>NaN</td>\n",
       "      <td>125.239998</td>\n",
       "      <td>200</td>\n",
       "    </tr>\n",
       "  </tbody>\n",
       "</table>\n",
       "</div>"
      ],
      "text/plain": [
       "   patient_id  prediction_id                       key value  value_numeric  \\\n",
       "0      624603              8  policy_paid_total_amount   NaN     143.919998   \n",
       "1      624603              8  policy_paid_total_amount   NaN     143.919998   \n",
       "2      624603              8  policy_paid_total_amount   NaN     143.919998   \n",
       "3      624603              8  policy_paid_total_amount   NaN     143.919998   \n",
       "4      624603              8  policy_paid_total_amount   NaN     154.070007   \n",
       "5      624603              8  policy_paid_total_amount   NaN     125.239998   \n",
       "\n",
       "   days_until_event  \n",
       "0                 0  \n",
       "1                 0  \n",
       "2                 0  \n",
       "3                 0  \n",
       "4               200  \n",
       "5               200  "
      ]
     },
     "execution_count": 59,
     "metadata": {},
     "output_type": "execute_result"
    }
   ],
   "source": [
    "special_case = duckdb.query(\n",
    "    \"\"\"\n",
    "select *\n",
    "FROM predicted_futures \n",
    "where patient_id = 624603 and prediction_id = 8 and lower(key) in ('plan_paid_total_amount','policy_paid_total_amount')\n",
    "\"\"\"\n",
    ").to_df()\n",
    "special_case"
   ]
  },
  {
   "cell_type": "markdown",
   "metadata": {},
   "source": [
    "- deduplicate records\n",
    "- pick keys only in plan_paid_total_amount or policy_paid_total_amount\n",
    "- compute the average cost for a given patient, prediction\n"
   ]
  },
  {
   "cell_type": "code",
   "execution_count": 60,
   "metadata": {},
   "outputs": [
    {
     "data": {
      "application/vnd.jupyter.widget-view+json": {
       "model_id": "36d97924fff843afa27df7b52e1a27e8",
       "version_major": 2,
       "version_minor": 0
      },
      "text/plain": [
       "FloatProgress(value=0.0, layout=Layout(width='auto'), style=ProgressStyle(bar_color='black'))"
      ]
     },
     "metadata": {},
     "output_type": "display_data"
    },
    {
     "data": {
      "text/html": [
       "<div>\n",
       "<style scoped>\n",
       "    .dataframe tbody tr th:only-of-type {\n",
       "        vertical-align: middle;\n",
       "    }\n",
       "\n",
       "    .dataframe tbody tr th {\n",
       "        vertical-align: top;\n",
       "    }\n",
       "\n",
       "    .dataframe thead th {\n",
       "        text-align: right;\n",
       "    }\n",
       "</style>\n",
       "<table border=\"1\" class=\"dataframe\">\n",
       "  <thead>\n",
       "    <tr style=\"text-align: right;\">\n",
       "      <th></th>\n",
       "      <th>patient_id</th>\n",
       "      <th>prediction_id</th>\n",
       "      <th>key</th>\n",
       "      <th>avg_cost</th>\n",
       "    </tr>\n",
       "  </thead>\n",
       "  <tbody>\n",
       "    <tr>\n",
       "      <th>0</th>\n",
       "      <td>34902651</td>\n",
       "      <td>2</td>\n",
       "      <td>policy_paid_total_amount</td>\n",
       "      <td>90.229996</td>\n",
       "    </tr>\n",
       "    <tr>\n",
       "      <th>1</th>\n",
       "      <td>35067291</td>\n",
       "      <td>2</td>\n",
       "      <td>policy_paid_total_amount</td>\n",
       "      <td>106.639999</td>\n",
       "    </tr>\n",
       "    <tr>\n",
       "      <th>2</th>\n",
       "      <td>35067291</td>\n",
       "      <td>6</td>\n",
       "      <td>policy_paid_total_amount</td>\n",
       "      <td>131.009995</td>\n",
       "    </tr>\n",
       "    <tr>\n",
       "      <th>3</th>\n",
       "      <td>35199003</td>\n",
       "      <td>4</td>\n",
       "      <td>policy_paid_total_amount</td>\n",
       "      <td>8.060000</td>\n",
       "    </tr>\n",
       "    <tr>\n",
       "      <th>4</th>\n",
       "      <td>35363643</td>\n",
       "      <td>0</td>\n",
       "      <td>policy_paid_total_amount</td>\n",
       "      <td>70.019997</td>\n",
       "    </tr>\n",
       "    <tr>\n",
       "      <th>...</th>\n",
       "      <td>...</td>\n",
       "      <td>...</td>\n",
       "      <td>...</td>\n",
       "      <td>...</td>\n",
       "    </tr>\n",
       "    <tr>\n",
       "      <th>82566</th>\n",
       "      <td>879439995</td>\n",
       "      <td>2</td>\n",
       "      <td>policy_paid_total_amount</td>\n",
       "      <td>537.220032</td>\n",
       "    </tr>\n",
       "    <tr>\n",
       "      <th>82567</th>\n",
       "      <td>879571707</td>\n",
       "      <td>0</td>\n",
       "      <td>policy_paid_total_amount</td>\n",
       "      <td>0.000000</td>\n",
       "    </tr>\n",
       "    <tr>\n",
       "      <th>82568</th>\n",
       "      <td>880361979</td>\n",
       "      <td>7</td>\n",
       "      <td>policy_paid_total_amount</td>\n",
       "      <td>0.000000</td>\n",
       "    </tr>\n",
       "    <tr>\n",
       "      <th>82569</th>\n",
       "      <td>920567067</td>\n",
       "      <td>14</td>\n",
       "      <td>policy_paid_total_amount</td>\n",
       "      <td>0.000000</td>\n",
       "    </tr>\n",
       "    <tr>\n",
       "      <th>82570</th>\n",
       "      <td>922839099</td>\n",
       "      <td>9</td>\n",
       "      <td>policy_paid_total_amount</td>\n",
       "      <td>148.180008</td>\n",
       "    </tr>\n",
       "  </tbody>\n",
       "</table>\n",
       "<p>82571 rows × 4 columns</p>\n",
       "</div>"
      ],
      "text/plain": [
       "       patient_id  prediction_id                       key    avg_cost\n",
       "0        34902651              2  policy_paid_total_amount   90.229996\n",
       "1        35067291              2  policy_paid_total_amount  106.639999\n",
       "2        35067291              6  policy_paid_total_amount  131.009995\n",
       "3        35199003              4  policy_paid_total_amount    8.060000\n",
       "4        35363643              0  policy_paid_total_amount   70.019997\n",
       "...           ...            ...                       ...         ...\n",
       "82566   879439995              2  policy_paid_total_amount  537.220032\n",
       "82567   879571707              0  policy_paid_total_amount    0.000000\n",
       "82568   880361979              7  policy_paid_total_amount    0.000000\n",
       "82569   920567067             14  policy_paid_total_amount    0.000000\n",
       "82570   922839099              9  policy_paid_total_amount  148.180008\n",
       "\n",
       "[82571 rows x 4 columns]"
      ]
     },
     "execution_count": 60,
     "metadata": {},
     "output_type": "execute_result"
    }
   ],
   "source": [
    "cost_df_event = duckdb.query(\n",
    "    \"\"\"\n",
    "\n",
    "with dedup_all as (\n",
    "    select distinct *\n",
    "    from predicted_futures\n",
    "),\n",
    "\n",
    "predicted_futures_cleaned as (\n",
    "select patient_id, prediction_id, key, value_numeric\n",
    "from dedup_all where lower(key) in ('plan_paid_total_amount','policy_paid_total_amount') \n",
    "),\n",
    "\n",
    "dedup_avg as(\n",
    "select patient_id, prediction_id, key, avg(value_numeric) as avg_cost\n",
    "from predicted_futures_cleaned\n",
    "group by patient_id, prediction_id, key\n",
    ")\n",
    "select *\n",
    "from dedup_avg\n",
    "\n",
    "\"\"\"\n",
    ").to_df()\n",
    "cost_df_event"
   ]
  },
  {
   "cell_type": "markdown",
   "metadata": {},
   "source": [
    "In order to generate FHIR resource,\n",
    "prediction_id and cost are nested for each patient\n"
   ]
  },
  {
   "cell_type": "code",
   "execution_count": 61,
   "metadata": {},
   "outputs": [
    {
     "data": {
      "text/html": [
       "<div>\n",
       "<style scoped>\n",
       "    .dataframe tbody tr th:only-of-type {\n",
       "        vertical-align: middle;\n",
       "    }\n",
       "\n",
       "    .dataframe tbody tr th {\n",
       "        vertical-align: top;\n",
       "    }\n",
       "\n",
       "    .dataframe thead th {\n",
       "        text-align: right;\n",
       "    }\n",
       "</style>\n",
       "<table border=\"1\" class=\"dataframe\">\n",
       "  <thead>\n",
       "    <tr style=\"text-align: right;\">\n",
       "      <th></th>\n",
       "      <th>patient_id</th>\n",
       "      <th>prediction_id_list</th>\n",
       "      <th>avg_cost_list</th>\n",
       "    </tr>\n",
       "  </thead>\n",
       "  <tbody>\n",
       "    <tr>\n",
       "      <th>0</th>\n",
       "      <td>35067291</td>\n",
       "      <td>[2, 6, 5, 15, 3, 9, 1, 12, 4, 13, 8]</td>\n",
       "      <td>[106.63999938964844, 131.00999450683594, 134.7...</td>\n",
       "    </tr>\n",
       "    <tr>\n",
       "      <th>1</th>\n",
       "      <td>39677211</td>\n",
       "      <td>[14, 1, 3, 5, 9, 13, 11, 2, 10, 6]</td>\n",
       "      <td>[199.63999938964844, 102.77999877929688, 31.73...</td>\n",
       "    </tr>\n",
       "    <tr>\n",
       "      <th>2</th>\n",
       "      <td>41784603</td>\n",
       "      <td>[5, 6, 12, 3, 13, 15, 9]</td>\n",
       "      <td>[0.0, 0.30000000447034836, 1.5749999284744263,...</td>\n",
       "    </tr>\n",
       "    <tr>\n",
       "      <th>3</th>\n",
       "      <td>82845819</td>\n",
       "      <td>[0, 13, 4, 9, 1, 5, 14, 2, 12, 6]</td>\n",
       "      <td>[2.3450001254677773, 0.5, 0.5, 0.0, 2.42000007...</td>\n",
       "    </tr>\n",
       "    <tr>\n",
       "      <th>4</th>\n",
       "      <td>157954587</td>\n",
       "      <td>[11, 9, 1, 5, 7, 2, 10]</td>\n",
       "      <td>[107.95999908447266, 107.95999908447266, 159.1...</td>\n",
       "    </tr>\n",
       "    <tr>\n",
       "      <th>...</th>\n",
       "      <td>...</td>\n",
       "      <td>...</td>\n",
       "      <td>...</td>\n",
       "    </tr>\n",
       "    <tr>\n",
       "      <th>9602</th>\n",
       "      <td>828829659</td>\n",
       "      <td>[4]</td>\n",
       "      <td>[162.69000244140625]</td>\n",
       "    </tr>\n",
       "    <tr>\n",
       "      <th>9603</th>\n",
       "      <td>569159451</td>\n",
       "      <td>[13, 8]</td>\n",
       "      <td>[156.69000244140625, 0.0]</td>\n",
       "    </tr>\n",
       "    <tr>\n",
       "      <th>9604</th>\n",
       "      <td>718026939</td>\n",
       "      <td>[13]</td>\n",
       "      <td>[0.0]</td>\n",
       "    </tr>\n",
       "    <tr>\n",
       "      <th>9605</th>\n",
       "      <td>149722587</td>\n",
       "      <td>[9]</td>\n",
       "      <td>[285.5299987792969]</td>\n",
       "    </tr>\n",
       "    <tr>\n",
       "      <th>9606</th>\n",
       "      <td>895706427</td>\n",
       "      <td>[5]</td>\n",
       "      <td>[175.33999633789062]</td>\n",
       "    </tr>\n",
       "  </tbody>\n",
       "</table>\n",
       "<p>9607 rows × 3 columns</p>\n",
       "</div>"
      ],
      "text/plain": [
       "      patient_id                    prediction_id_list  \\\n",
       "0       35067291  [2, 6, 5, 15, 3, 9, 1, 12, 4, 13, 8]   \n",
       "1       39677211    [14, 1, 3, 5, 9, 13, 11, 2, 10, 6]   \n",
       "2       41784603              [5, 6, 12, 3, 13, 15, 9]   \n",
       "3       82845819     [0, 13, 4, 9, 1, 5, 14, 2, 12, 6]   \n",
       "4      157954587               [11, 9, 1, 5, 7, 2, 10]   \n",
       "...          ...                                   ...   \n",
       "9602   828829659                                   [4]   \n",
       "9603   569159451                               [13, 8]   \n",
       "9604   718026939                                  [13]   \n",
       "9605   149722587                                   [9]   \n",
       "9606   895706427                                   [5]   \n",
       "\n",
       "                                          avg_cost_list  \n",
       "0     [106.63999938964844, 131.00999450683594, 134.7...  \n",
       "1     [199.63999938964844, 102.77999877929688, 31.73...  \n",
       "2     [0.0, 0.30000000447034836, 1.5749999284744263,...  \n",
       "3     [2.3450001254677773, 0.5, 0.5, 0.0, 2.42000007...  \n",
       "4     [107.95999908447266, 107.95999908447266, 159.1...  \n",
       "...                                                 ...  \n",
       "9602                               [162.69000244140625]  \n",
       "9603                          [156.69000244140625, 0.0]  \n",
       "9604                                              [0.0]  \n",
       "9605                                [285.5299987792969]  \n",
       "9606                               [175.33999633789062]  \n",
       "\n",
       "[9607 rows x 3 columns]"
      ]
     },
     "execution_count": 61,
     "metadata": {},
     "output_type": "execute_result"
    }
   ],
   "source": [
    "cost_df_event_agg = duckdb.query(\n",
    "    \"\"\"\n",
    "select patient_id, \n",
    "  list(prediction_id) as prediction_id_list, \n",
    "  list(avg_cost) as avg_cost_list\n",
    "from cost_df_event\n",
    "group by patient_id\n",
    "\n",
    "\"\"\"\n",
    ").to_df()\n",
    "cost_df_event_agg"
   ]
  },
  {
   "cell_type": "markdown",
   "metadata": {},
   "source": [
    "For comparing the distribution of orginal cost and predicted cost, the cost data are further aggregated for each patients\n"
   ]
  },
  {
   "cell_type": "code",
   "execution_count": 62,
   "metadata": {},
   "outputs": [],
   "source": [
    "cost_df = duckdb.query(\n",
    "    \"\"\"\n",
    "with final as (\n",
    "select patient_id, sum(avg_cost) as total_cost\n",
    "from cost_df_event\n",
    "group by patient_id)\n",
    "select *\n",
    "from final\n",
    "\"\"\"\n",
    ").to_df()"
   ]
  },
  {
   "cell_type": "code",
   "execution_count": 63,
   "metadata": {},
   "outputs": [
    {
     "data": {
      "text/plain": [
       "count      9607.000000\n",
       "mean       1319.170638\n",
       "std        6347.825679\n",
       "min           0.000000\n",
       "25%         246.051665\n",
       "50%         666.175001\n",
       "75%        1285.403496\n",
       "max      341015.028625\n",
       "Name: total_cost, dtype: float64"
      ]
     },
     "execution_count": 63,
     "metadata": {},
     "output_type": "execute_result"
    }
   ],
   "source": [
    "cost_df_summary = cost_df.total_cost.describe()\n",
    "cost_df_summary"
   ]
  },
  {
   "cell_type": "markdown",
   "metadata": {},
   "source": [
    "Cost Comparison Metrics\n",
    "\n",
    "- t test\n",
    "- standardized mean difference (SMD)\n",
    "\n",
    "In a addition, if we have the complete real cost data, we can use k-s test for distribution comparison\n"
   ]
  },
  {
   "cell_type": "markdown",
   "metadata": {},
   "source": [
    "Since costs are continuous variables, and large sample, t test can be used for comparing the distribution of the mean. From the t test result, we can see that the distribution of the mean is statistically significantly different from each other.\n"
   ]
  },
  {
   "cell_type": "code",
   "execution_count": 64,
   "metadata": {},
   "outputs": [
    {
     "data": {
      "text/plain": [
       "Ttest_indResult(statistic=35.16592659880916, pvalue=3.545687212718715e-255)"
      ]
     },
     "execution_count": 64,
     "metadata": {},
     "output_type": "execute_result"
    }
   ],
   "source": [
    "# t test\n",
    "scipy.stats.ttest_ind_from_stats(\n",
    "    cost_df_summary.mean(),\n",
    "    cost_df_summary.std(),\n",
    "    cost_df.shape[0],\n",
    "    cost_origin[\"mean\"],\n",
    "    cost_origin[\"std\"],\n",
    "    cost_origin[\"count\"],\n",
    "    equal_var=False,\n",
    "    alternative=\"two-sided\",\n",
    ")"
   ]
  },
  {
   "cell_type": "markdown",
   "metadata": {},
   "source": [
    "standardized mean difference were calculated, which is greater than 0.1, also suggest the difference between the two groups.\n"
   ]
  },
  {
   "cell_type": "code",
   "execution_count": 65,
   "metadata": {},
   "outputs": [
    {
     "data": {
      "text/plain": [
       "0.5074473663879351"
      ]
     },
     "execution_count": 65,
     "metadata": {},
     "output_type": "execute_result"
    }
   ],
   "source": [
    "smd = (cost_df_summary.mean() - cost_origin[\"mean\"]) / np.sqrt(\n",
    "    (cost_df_summary.std() ** 2 + cost_origin[\"std\"] ** 2) / 2\n",
    ")\n",
    "smd"
   ]
  },
  {
   "cell_type": "markdown",
   "metadata": {},
   "source": [
    "## FHIR resources\n",
    "\n",
    "steps:\n",
    "\n",
    "- turn nested dataframe cost_df_event_agg to dict\n",
    "- generate Reference object for patient id\n",
    "- prediction elements\n",
    "  - generate outcome key using CodeableConcept with prediction id\n",
    "  - generate probabilityDecimal for storing cost prediction. It is possible that there is a better place to store cost.\n",
    "- finally, generate RiskAssessment resource\n"
   ]
  },
  {
   "cell_type": "code",
   "execution_count": 33,
   "metadata": {},
   "outputs": [],
   "source": [
    "cost_dict_df = cost_df_event_agg.to_dict()\n",
    "list_resource = []\n",
    "for i in range(cost_df_event_agg.shape[0]):\n",
    "    pat_ref = Reference()\n",
    "    pat_ref.reference = f\"Patient/{cost_dict_df['patient_id'][i]}\"\n",
    "\n",
    "    prediction_list = [\n",
    "        {\n",
    "            \"outcome\": CodeableConcept(\n",
    "                text=f\"Cost prediction_id {cost_dict_df['prediction_id_list'][i][j]} \"\n",
    "            ),\n",
    "            \"probabilityDecimal\": cost_dict_df[\"avg_cost_list\"][i][j],\n",
    "        }\n",
    "        for j in range(len(cost_dict_df[\"prediction_id_list\"][i]))\n",
    "    ]\n",
    "\n",
    "    obj_ra = RiskAssessment(status=\"final\", subject=pat_ref)\n",
    "    obj_ra.prediction = prediction_list\n",
    "    list_resource.append(obj_ra)"
   ]
  },
  {
   "cell_type": "code",
   "execution_count": 34,
   "metadata": {},
   "outputs": [
    {
     "data": {
      "text/plain": [
       "RiskAssessment(resource_type='RiskAssessment', fhir_comments=None, id=None, implicitRules=None, implicitRules__ext=None, language=None, language__ext=None, meta=None, contained=None, extension=None, modifierExtension=None, text=None, basedOn=None, basis=None, code=None, condition=None, encounter=None, identifier=None, method=None, mitigation=None, mitigation__ext=None, note=None, occurrenceDateTime=None, occurrenceDateTime__ext=None, occurrencePeriod=None, parent=None, performer=None, prediction=[RiskAssessmentPrediction(resource_type='RiskAssessmentPrediction', fhir_comments=None, extension=None, id=None, modifierExtension=None, outcome=CodeableConcept(resource_type='CodeableConcept', fhir_comments=None, extension=None, id=None, coding=None, text='Cost prediction_id 9 ', text__ext=None), probabilityDecimal=Decimal('117.25999450683594'), probabilityDecimal__ext=None, probabilityRange=None, qualitativeRisk=None, rationale=None, rationale__ext=None, relativeRisk=None, relativeRisk__ext=None, whenPeriod=None, whenRange=None), RiskAssessmentPrediction(resource_type='RiskAssessmentPrediction', fhir_comments=None, extension=None, id=None, modifierExtension=None, outcome=CodeableConcept(resource_type='CodeableConcept', fhir_comments=None, extension=None, id=None, coding=None, text='Cost prediction_id 6 ', text__ext=None), probabilityDecimal=Decimal('146.81000137329102'), probabilityDecimal__ext=None, probabilityRange=None, qualitativeRisk=None, rationale=None, rationale__ext=None, relativeRisk=None, relativeRisk__ext=None, whenPeriod=None, whenRange=None), RiskAssessmentPrediction(resource_type='RiskAssessmentPrediction', fhir_comments=None, extension=None, id=None, modifierExtension=None, outcome=CodeableConcept(resource_type='CodeableConcept', fhir_comments=None, extension=None, id=None, coding=None, text='Cost prediction_id 13 ', text__ext=None), probabilityDecimal=Decimal('0.0'), probabilityDecimal__ext=None, probabilityRange=None, qualitativeRisk=None, rationale=None, rationale__ext=None, relativeRisk=None, relativeRisk__ext=None, whenPeriod=None, whenRange=None), RiskAssessmentPrediction(resource_type='RiskAssessmentPrediction', fhir_comments=None, extension=None, id=None, modifierExtension=None, outcome=CodeableConcept(resource_type='CodeableConcept', fhir_comments=None, extension=None, id=None, coding=None, text='Cost prediction_id 14 ', text__ext=None), probabilityDecimal=Decimal('0.0'), probabilityDecimal__ext=None, probabilityRange=None, qualitativeRisk=None, rationale=None, rationale__ext=None, relativeRisk=None, relativeRisk__ext=None, whenPeriod=None, whenRange=None), RiskAssessmentPrediction(resource_type='RiskAssessmentPrediction', fhir_comments=None, extension=None, id=None, modifierExtension=None, outcome=CodeableConcept(resource_type='CodeableConcept', fhir_comments=None, extension=None, id=None, coding=None, text='Cost prediction_id 11 ', text__ext=None), probabilityDecimal=Decimal('147.39999389648438'), probabilityDecimal__ext=None, probabilityRange=None, qualitativeRisk=None, rationale=None, rationale__ext=None, relativeRisk=None, relativeRisk__ext=None, whenPeriod=None, whenRange=None), RiskAssessmentPrediction(resource_type='RiskAssessmentPrediction', fhir_comments=None, extension=None, id=None, modifierExtension=None, outcome=CodeableConcept(resource_type='CodeableConcept', fhir_comments=None, extension=None, id=None, coding=None, text='Cost prediction_id 1 ', text__ext=None), probabilityDecimal=Decimal('152.67499542236328'), probabilityDecimal__ext=None, probabilityRange=None, qualitativeRisk=None, rationale=None, rationale__ext=None, relativeRisk=None, relativeRisk__ext=None, whenPeriod=None, whenRange=None), RiskAssessmentPrediction(resource_type='RiskAssessmentPrediction', fhir_comments=None, extension=None, id=None, modifierExtension=None, outcome=CodeableConcept(resource_type='CodeableConcept', fhir_comments=None, extension=None, id=None, coding=None, text='Cost prediction_id 8 ', text__ext=None), probabilityDecimal=Decimal('113.8899974822998'), probabilityDecimal__ext=None, probabilityRange=None, qualitativeRisk=None, rationale=None, rationale__ext=None, relativeRisk=None, relativeRisk__ext=None, whenPeriod=None, whenRange=None), RiskAssessmentPrediction(resource_type='RiskAssessmentPrediction', fhir_comments=None, extension=None, id=None, modifierExtension=None, outcome=CodeableConcept(resource_type='CodeableConcept', fhir_comments=None, extension=None, id=None, coding=None, text='Cost prediction_id 7 ', text__ext=None), probabilityDecimal=Decimal('289.27001953125'), probabilityDecimal__ext=None, probabilityRange=None, qualitativeRisk=None, rationale=None, rationale__ext=None, relativeRisk=None, relativeRisk__ext=None, whenPeriod=None, whenRange=None), RiskAssessmentPrediction(resource_type='RiskAssessmentPrediction', fhir_comments=None, extension=None, id=None, modifierExtension=None, outcome=CodeableConcept(resource_type='CodeableConcept', fhir_comments=None, extension=None, id=None, coding=None, text='Cost prediction_id 2 ', text__ext=None), probabilityDecimal=Decimal('143.75999450683594'), probabilityDecimal__ext=None, probabilityRange=None, qualitativeRisk=None, rationale=None, rationale__ext=None, relativeRisk=None, relativeRisk__ext=None, whenPeriod=None, whenRange=None), RiskAssessmentPrediction(resource_type='RiskAssessmentPrediction', fhir_comments=None, extension=None, id=None, modifierExtension=None, outcome=CodeableConcept(resource_type='CodeableConcept', fhir_comments=None, extension=None, id=None, coding=None, text='Cost prediction_id 5 ', text__ext=None), probabilityDecimal=Decimal('136.4399871826172'), probabilityDecimal__ext=None, probabilityRange=None, qualitativeRisk=None, rationale=None, rationale__ext=None, relativeRisk=None, relativeRisk__ext=None, whenPeriod=None, whenRange=None), RiskAssessmentPrediction(resource_type='RiskAssessmentPrediction', fhir_comments=None, extension=None, id=None, modifierExtension=None, outcome=CodeableConcept(resource_type='CodeableConcept', fhir_comments=None, extension=None, id=None, coding=None, text='Cost prediction_id 10 ', text__ext=None), probabilityDecimal=Decimal('25.39000129699707'), probabilityDecimal__ext=None, probabilityRange=None, qualitativeRisk=None, rationale=None, rationale__ext=None, relativeRisk=None, relativeRisk__ext=None, whenPeriod=None, whenRange=None)], reason=None, status='final', status__ext=None, subject=Reference(resource_type='Reference', fhir_comments=None, extension=None, id=None, display=None, display__ext=None, identifier=None, reference='Patient/47283579', reference__ext=None, type=None, type__ext=None))"
      ]
     },
     "execution_count": 34,
     "metadata": {},
     "output_type": "execute_result"
    }
   ],
   "source": [
    "list_resource[1]"
   ]
  },
  {
   "cell_type": "markdown",
   "metadata": {},
   "source": [
    "## Pipeline design\n"
   ]
  },
  {
   "cell_type": "code",
   "execution_count": 70,
   "metadata": {},
   "outputs": [
    {
     "data": {
      "text/html": [
       "<img src=\"https://mermaid.ink/img/CmZsb3djaGFydCBUQgoKQShDbGllbnQgZGF0YSktLT4gYihRQykgLS0+IEVMVCAtLT4gYShGZWF0dXJlIEVuZ2luZWVyaW5nIHcvIEZlYXR1cmUgU3RvcmUpIC0tPiBjKFFDKSAtLT4gTUxPcHMgLS0+IGUoRkhJUiByZXNvdXJjZSkgLS0+IGYoUUMpIC0tPiBnKENsaWVudCkKCnN1YmdyYXBoIE1MT3BzCiAgICBkaXJlY3Rpb24gTFIKICAgIDEobW9kZWwgdHJhaW5pbmcpIC0tPiAyKG1vZGVsIHRlc3RpbmcpIC0tPiAzKG1vZGVsIHZlcnNpb25pbmcpIC0tPiBDSS9DRCAtLT4gSW5mZXJlbmNlIC0tPiBkKFFDLGRhdGEgZHJpZnRpbmcsbW9uaXRlcmluZykgLS0+IDEKZW5kCg==\"/>"
      ],
      "text/plain": [
       "<IPython.core.display.Image object>"
      ]
     },
     "metadata": {},
     "output_type": "display_data"
    }
   ],
   "source": [
    "def mm(graph):\n",
    "    graphbytes = graph.encode(\"utf8\")\n",
    "    base64_bytes = base64.b64encode(graphbytes)\n",
    "    base64_string = base64_bytes.decode(\"ascii\")\n",
    "    display(Image(url=\"https://mermaid.ink/img/\" + base64_string))\n",
    "\n",
    "\n",
    "mm(\n",
    "    \"\"\"\n",
    "flowchart TB\n",
    "\n",
    "A(Client data)--> b(QC) --> ELT --> a(Feature Engineering w/ Feature Store) --> c(QC) --> MLOps --> e(FHIR resource) --> f(QC) --> g(Client)\n",
    "\n",
    "subgraph MLOps\n",
    "    direction LR\n",
    "    1(model training) --> 2(model testing) --> 3(model versioning) --> CI/CD --> Inference --> d(QC,data drifting,monitering) --> 1\n",
    "end\n",
    "\"\"\"\n",
    ")"
   ]
  },
  {
   "cell_type": "markdown",
   "metadata": {},
   "source": [
    "Tools as an example\n",
    "\n",
    "- Orchestration tools: Airflow with Celery and RabbitMQ\n",
    "- QC: Great Expectation\n",
    "- ELT: dbt with duckdb\n",
    "- Feature Store: Feast\n",
    "- MLOps: MLflow, it is a continuous learning process\n",
    "- Dataviz for Monitoring, Logging, Metrics: Grafana\n",
    "- Alerting: Slack/email\n",
    "- CI/CD: precommit, github action\n",
    "- documentation: dbt doc, great expectation doc, mkdocs\n"
   ]
  }
 ],
 "metadata": {
  "kernelspec": {
   "display_name": "venv",
   "language": "python",
   "name": "python3"
  },
  "language_info": {
   "codemirror_mode": {
    "name": "ipython",
    "version": 3
   },
   "file_extension": ".py",
   "mimetype": "text/x-python",
   "name": "python",
   "nbconvert_exporter": "python",
   "pygments_lexer": "ipython3",
   "version": "3.11.5"
  }
 },
 "nbformat": 4,
 "nbformat_minor": 2
}
